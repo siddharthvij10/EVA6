{
  "nbformat": 4,
  "nbformat_minor": 0,
  "metadata": {
    "colab": {
      "name": "EVA4 - Session 2.ipynb",
      "provenance": []
    },
    "kernelspec": {
      "name": "python3",
      "display_name": "Python 3"
    },
    "accelerator": "GPU"
  },
  "cells": [
    {
      "cell_type": "code",
      "metadata": {
        "id": "0m2JWFliFfKT"
      },
      "source": [
        "from __future__ import print_function\n",
        "import torch\n",
        "import torch.nn as nn\n",
        "import torch.nn.functional as F\n",
        "import torch.optim as optim\n",
        "from torchvision import datasets, transforms\n",
        "\n",
        "\n",
        "import warnings\n",
        "warnings.filterwarnings(\"ignore\")"
      ],
      "execution_count": 73,
      "outputs": []
    },
    {
      "cell_type": "code",
      "metadata": {
        "id": "h_Cx9q2QFgM7"
      },
      "source": [
        "# params < 20k ;  \n",
        "# BN, Dropout, a Fully connected layer, GAP; \n",
        "# < 20 epochs;\n",
        "#  > 99.4\n",
        "class Net(nn.Module):\n",
        "    def __init__(self):\n",
        "        super(Net, self).__init__()\n",
        "        self.conv1 = nn.Conv2d(1, 8, 3, padding=1) # 30*30*1 | 3*3 | 28*28*32\n",
        "        self.bn1 = nn.BatchNorm2d(8)\n",
        "\n",
        "        self.conv2 = nn.Conv2d(8, 16, 3, padding=1)  # 30*30*32 | 3*3 | 28*28*64\n",
        "        self.bn2 = nn.BatchNorm2d(16)\n",
        "        self.conv3 = nn.Conv2d(16, 32, 3, padding=1) # 30*30*32 | 3*3 | 28*28*64 # 16*16*64 | 3*3 | 14*14*128\n",
        "        self.bn3 = nn.BatchNorm2d(32)\n",
        "        self.pool1 = nn.MaxPool2d(2, 2)  # 28*28*64 | 14*14*64\n",
        "        self.conv31 = nn.Conv2d(32, 8, 1, padding=1)  # 14*14*64| 14*14*8 # 16*16*64 | 3*3 | 14*14*128\n",
        "        \n",
        "        self.conv4 = nn.Conv2d(8, 16, 3, padding=1)  # 14*14*8  | 12  # 30*30*32 | 3*3 | 28*28*64\n",
        "        self.bn4 = nn.BatchNorm2d(16)\n",
        "        self.conv5 = nn.Conv2d(16, 32, 3, padding=1) # 30*30*32 | 3*3 | 28*28*64 # 16*16*64 | 3*3 | 14*14*128\n",
        "        self.bn5 = nn.BatchNorm2d(32)\n",
        "        self.pool2 = nn.MaxPool2d(2, 2)  # 7# 28*28*64 | 14*14*64\n",
        "        self.conv51 = nn.Conv2d(32, 8, 1, padding=1)  # 7*7*8 # 14*14*64| 14*14*8 # 16*16*64 | 3*3 | 14*14*128\n",
        "\n",
        "        self.conv6 = nn.Conv2d(8, 16, 3, padding=1)  # 16*16*128 | 3*3 | 14*14*256\n",
        "        self.bn6 = nn.BatchNorm2d(16)\n",
        "        self.conv7 = nn.Conv2d(16, 32, 3, padding=1)  # 16*16*128 | 3*3 | 14*14*256\n",
        "        self.bn7 = nn.BatchNorm2d(32)\n",
        "\n",
        "        self.gap1 =  nn.AvgPool2d(7) # 7*7*256 | 1*1*256  # 1*1*32\n",
        "        self.fc1 = nn.Linear(32, 10)  # 32\n",
        "\n",
        "    def forward(self, x):\n",
        "        x = self.conv31(self.pool1(self.bn3(F.relu(self.conv3(self.bn2(F.relu(self.conv2(self.bn1(F.relu(self.conv1(x)))))))))))\n",
        "        # print(x.shape)\n",
        "        x = self.conv51(self.pool1(self.bn5(F.relu(self.conv5(self.bn4(F.relu(self.conv4(x))))))))\n",
        "        # print(x.shape)\n",
        "        x = (self.bn7(F.relu(self.conv7(self.bn6(F.relu(self.conv6(x)))))))\n",
        "        x = self.gap1(x)\n",
        "        # print(x.shape)\n",
        "        x = x.view(x.shape[0], -1)\n",
        "        # print(x.shape)\n",
        "        x = (self.fc1(x))\n",
        "        return F.log_softmax(x)"
      ],
      "execution_count": 118,
      "outputs": []
    },
    {
      "cell_type": "code",
      "metadata": {
        "id": "xdydjYTZFyi3",
        "colab": {
          "base_uri": "https://localhost:8080/"
        },
        "outputId": "b0af6e61-0119-4f13-9cc1-d731ccf50693"
      },
      "source": [
        "!pip install torchsummary\n",
        "from torchsummary import summary\n",
        "use_cuda = torch.cuda.is_available()\n",
        "device = torch.device(\"cuda\" if use_cuda else \"cpu\")\n",
        "model = Net().to(device)\n",
        "summary(model, input_size=(1, 28, 28))"
      ],
      "execution_count": 119,
      "outputs": [
        {
          "output_type": "stream",
          "text": [
            "Requirement already satisfied: torchsummary in /usr/local/lib/python3.7/dist-packages (1.5.1)\n",
            "----------------------------------------------------------------\n",
            "        Layer (type)               Output Shape         Param #\n",
            "================================================================\n",
            "            Conv2d-1            [-1, 8, 28, 28]              80\n",
            "       BatchNorm2d-2            [-1, 8, 28, 28]              16\n",
            "            Conv2d-3           [-1, 16, 28, 28]           1,168\n",
            "       BatchNorm2d-4           [-1, 16, 28, 28]              32\n",
            "            Conv2d-5           [-1, 32, 28, 28]           4,640\n",
            "       BatchNorm2d-6           [-1, 32, 28, 28]              64\n",
            "         MaxPool2d-7           [-1, 32, 14, 14]               0\n",
            "            Conv2d-8            [-1, 8, 16, 16]             264\n",
            "            Conv2d-9           [-1, 16, 16, 16]           1,168\n",
            "      BatchNorm2d-10           [-1, 16, 16, 16]              32\n",
            "           Conv2d-11           [-1, 32, 16, 16]           4,640\n",
            "      BatchNorm2d-12           [-1, 32, 16, 16]              64\n",
            "        MaxPool2d-13             [-1, 32, 8, 8]               0\n",
            "           Conv2d-14            [-1, 8, 10, 10]             264\n",
            "           Conv2d-15           [-1, 16, 10, 10]           1,168\n",
            "      BatchNorm2d-16           [-1, 16, 10, 10]              32\n",
            "           Conv2d-17           [-1, 32, 10, 10]           4,640\n",
            "      BatchNorm2d-18           [-1, 32, 10, 10]              64\n",
            "        AvgPool2d-19             [-1, 32, 1, 1]               0\n",
            "           Linear-20                   [-1, 10]             330\n",
            "================================================================\n",
            "Total params: 18,666\n",
            "Trainable params: 18,666\n",
            "Non-trainable params: 0\n",
            "----------------------------------------------------------------\n",
            "Input size (MB): 0.00\n",
            "Forward/backward pass size (MB): 1.02\n",
            "Params size (MB): 0.07\n",
            "Estimated Total Size (MB): 1.09\n",
            "----------------------------------------------------------------\n"
          ],
          "name": "stdout"
        }
      ]
    },
    {
      "cell_type": "code",
      "metadata": {
        "id": "DqTWLaM5GHgH"
      },
      "source": [
        "\n",
        "\n",
        "torch.manual_seed(1)\n",
        "batch_size = 128\n",
        "\n",
        "kwargs = {'num_workers': 1, 'pin_memory': True} if use_cuda else {}\n",
        "train_loader = torch.utils.data.DataLoader(\n",
        "    datasets.MNIST('../data', train=True, download=True,\n",
        "                    transform=transforms.Compose([\n",
        "                        transforms.ToTensor(),\n",
        "                        transforms.Normalize((0.1307,), (0.3081,))\n",
        "                    ])),\n",
        "    batch_size=batch_size, shuffle=True, **kwargs)\n",
        "test_loader = torch.utils.data.DataLoader(\n",
        "    datasets.MNIST('../data', train=False, transform=transforms.Compose([\n",
        "                        transforms.ToTensor(),\n",
        "                        transforms.Normalize((0.1307,), (0.3081,))\n",
        "                    ])),\n",
        "    batch_size=batch_size, shuffle=True, **kwargs)\n"
      ],
      "execution_count": 76,
      "outputs": []
    },
    {
      "cell_type": "code",
      "metadata": {
        "id": "8fDefDhaFlwH"
      },
      "source": [
        "from tqdm import tqdm\n",
        "def train(model, device, train_loader, optimizer, epoch):\n",
        "    model.train()\n",
        "    train_loss = 0\n",
        "    correct = 0\n",
        "    # pbar = tqdm(train_loader)\n",
        "    for data, target in train_loader:\n",
        "        data, target = data.to(device), target.to(device)\n",
        "        optimizer.zero_grad()\n",
        "        output = model(data)\n",
        "        loss = F.nll_loss(output, target)\n",
        "        loss.backward()\n",
        "        optimizer.step()\n",
        "        \n",
        "        train_loss += loss.item()\n",
        "        pred = output.argmax(dim=1, keepdim=True)\n",
        "        correct += pred.eq(target.view_as(pred)).sum().item()\n",
        "        # pbar.set_description(desc= f'loss={loss.item()} batch_id={batch_idx}')\n",
        "    train_loss /= len(train_loader.dataset)\n",
        "\n",
        "    print('Train set: Average loss: {:.4f}, Accuracy: {}/{} ({:.2f}%)'.format(\n",
        "        train_loss, correct, len(train_loader.dataset),\n",
        "        100. * correct / len(train_loader.dataset)))\n",
        "\n",
        "def test(model, device, test_loader):\n",
        "    model.eval()\n",
        "    test_loss = 0\n",
        "    correct = 0\n",
        "    with torch.no_grad():\n",
        "        for data, target in test_loader:\n",
        "            data, target = data.to(device), target.to(device)\n",
        "            output = model(data)\n",
        "            test_loss += F.nll_loss(output, target, reduction='sum').item()  # sum up batch loss\n",
        "            pred = output.argmax(dim=1, keepdim=True)  # get the index of the max log-probability\n",
        "            correct += pred.eq(target.view_as(pred)).sum().item()\n",
        "\n",
        "    test_loss /= len(test_loader.dataset)\n",
        "\n",
        "    print('Test set: Average loss: {:.4f}, Accuracy: {}/{} ({:.2f}%)\\n'.format(\n",
        "        test_loss, correct, len(test_loader.dataset),\n",
        "        100. * correct / len(test_loader.dataset)))"
      ],
      "execution_count": 123,
      "outputs": []
    },
    {
      "cell_type": "code",
      "metadata": {
        "id": "MMWbLWO6FuHb",
        "colab": {
          "base_uri": "https://localhost:8080/"
        },
        "outputId": "57dce39a-f533-470f-8832-e11294dd37fa"
      },
      "source": [
        "\n",
        "model = Net().to(device)\n",
        "optimizer = optim.SGD(model.parameters(), lr=0.01, momentum=0.9)\n",
        "\n",
        "for epoch in range(1, 20):\n",
        "    print('epoch number ', epoch)\n",
        "    train(model, device, train_loader, optimizer, epoch)\n",
        "    test(model, device, test_loader)"
      ],
      "execution_count": 124,
      "outputs": [
        {
          "output_type": "stream",
          "text": [
            "epoch number  1\n",
            "Train set: Average loss: 0.0037, Accuracy: 51360/60000 (85.60%)\n",
            "Test set: Average loss: 0.0925, Accuracy: 9737/10000 (97.37%)\n",
            "\n",
            "epoch number  2\n",
            "Train set: Average loss: 0.0006, Accuracy: 58721/60000 (97.87%)\n",
            "Test set: Average loss: 0.0540, Accuracy: 9846/10000 (98.46%)\n",
            "\n",
            "epoch number  3\n",
            "Train set: Average loss: 0.0004, Accuracy: 59146/60000 (98.58%)\n",
            "Test set: Average loss: 0.0452, Accuracy: 9867/10000 (98.67%)\n",
            "\n",
            "epoch number  4\n",
            "Train set: Average loss: 0.0003, Accuracy: 59296/60000 (98.83%)\n",
            "Test set: Average loss: 0.0436, Accuracy: 9869/10000 (98.69%)\n",
            "\n",
            "epoch number  5\n",
            "Train set: Average loss: 0.0003, Accuracy: 59450/60000 (99.08%)\n",
            "Test set: Average loss: 0.0407, Accuracy: 9863/10000 (98.63%)\n",
            "\n",
            "epoch number  6\n",
            "Train set: Average loss: 0.0002, Accuracy: 59513/60000 (99.19%)\n",
            "Test set: Average loss: 0.0408, Accuracy: 9863/10000 (98.63%)\n",
            "\n",
            "epoch number  7\n",
            "Train set: Average loss: 0.0002, Accuracy: 59511/60000 (99.19%)\n",
            "Test set: Average loss: 0.0327, Accuracy: 9903/10000 (99.03%)\n",
            "\n",
            "epoch number  8\n",
            "Train set: Average loss: 0.0002, Accuracy: 59597/60000 (99.33%)\n",
            "Test set: Average loss: 0.0284, Accuracy: 9907/10000 (99.07%)\n",
            "\n",
            "epoch number  9\n",
            "Train set: Average loss: 0.0001, Accuracy: 59663/60000 (99.44%)\n",
            "Test set: Average loss: 0.0311, Accuracy: 9902/10000 (99.02%)\n",
            "\n",
            "epoch number  10\n",
            "Train set: Average loss: 0.0001, Accuracy: 59694/60000 (99.49%)\n",
            "Test set: Average loss: 0.0393, Accuracy: 9876/10000 (98.76%)\n",
            "\n",
            "epoch number  11\n",
            "Train set: Average loss: 0.0001, Accuracy: 59717/60000 (99.53%)\n",
            "Test set: Average loss: 0.0252, Accuracy: 9928/10000 (99.28%)\n",
            "\n",
            "epoch number  12\n",
            "Train set: Average loss: 0.0001, Accuracy: 59768/60000 (99.61%)\n",
            "Test set: Average loss: 0.0316, Accuracy: 9904/10000 (99.04%)\n",
            "\n",
            "epoch number  13\n",
            "Train set: Average loss: 0.0001, Accuracy: 59776/60000 (99.63%)\n",
            "Test set: Average loss: 0.0293, Accuracy: 9899/10000 (98.99%)\n",
            "\n",
            "epoch number  14\n",
            "Train set: Average loss: 0.0001, Accuracy: 59804/60000 (99.67%)\n",
            "Test set: Average loss: 0.0265, Accuracy: 9917/10000 (99.17%)\n",
            "\n",
            "epoch number  15\n",
            "Train set: Average loss: 0.0001, Accuracy: 59825/60000 (99.71%)\n",
            "Test set: Average loss: 0.0304, Accuracy: 9905/10000 (99.05%)\n",
            "\n",
            "epoch number  16\n",
            "Train set: Average loss: 0.0001, Accuracy: 59863/60000 (99.77%)\n",
            "Test set: Average loss: 0.0260, Accuracy: 9919/10000 (99.19%)\n",
            "\n",
            "epoch number  17\n",
            "Train set: Average loss: 0.0001, Accuracy: 59836/60000 (99.73%)\n",
            "Test set: Average loss: 0.0251, Accuracy: 9917/10000 (99.17%)\n",
            "\n",
            "epoch number  18\n",
            "Train set: Average loss: 0.0001, Accuracy: 59850/60000 (99.75%)\n",
            "Test set: Average loss: 0.0281, Accuracy: 9909/10000 (99.09%)\n",
            "\n",
            "epoch number  19\n",
            "Train set: Average loss: 0.0001, Accuracy: 59881/60000 (99.80%)\n",
            "Test set: Average loss: 0.0262, Accuracy: 9916/10000 (99.16%)\n",
            "\n"
          ],
          "name": "stdout"
        }
      ]
    },
    {
      "cell_type": "code",
      "metadata": {
        "id": "So5uk4EkHW6R"
      },
      "source": [
        ""
      ],
      "execution_count": 78,
      "outputs": []
    }
  ]
}