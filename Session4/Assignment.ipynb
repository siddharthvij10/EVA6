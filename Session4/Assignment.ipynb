{
  "nbformat": 4,
  "nbformat_minor": 0,
  "metadata": {
    "colab": {
      "name": "EVA4 - Session 2.ipynb",
      "provenance": []
    },
    "kernelspec": {
      "name": "python3",
      "display_name": "Python 3"
    },
    "accelerator": "GPU"
  },
  "cells": [
    {
      "cell_type": "code",
      "metadata": {
        "id": "0m2JWFliFfKT"
      },
      "source": [
        "from __future__ import print_function\n",
        "import torch\n",
        "import torch.nn as nn\n",
        "import torch.nn.functional as F\n",
        "import torch.optim as optim\n",
        "from torchvision import datasets, transforms"
      ],
      "execution_count": 25,
      "outputs": []
    },
    {
      "cell_type": "code",
      "metadata": {
        "id": "h_Cx9q2QFgM7"
      },
      "source": [
        "# params < 20k ;  \n",
        "# BN, Dropout, a Fully connected layer, GAP; \n",
        "# < 20 epochs;\n",
        "#  > 99.4\n",
        "class Net(nn.Module):\n",
        "    def __init__(self):\n",
        "        super(Net, self).__init__()\n",
        "        self.conv1 = nn.Conv2d(1, 32, 3, padding=1) # 30*30*1 | 3*3 | 28*28*32\n",
        "        self.conv2 = nn.Conv2d(32, 64, 3, padding=1)  # 30*30*32 | 3*3 | 28*28*64\n",
        "        self.bn1 = nn.BatchNorm2d(64)\n",
        "        self.pool1 = nn.MaxPool2d(2, 2)  # 28*28*64 | 14*14*64\n",
        "        self.drpout1 = nn.Dropout(p=0.25)\n",
        "        self.conv3 = nn.Conv2d(64, 128, 3, padding=1)  # 16*16*64 | 3*3 | 14*14*128\n",
        "        self.conv4 = nn.Conv2d(128, 256, 3, padding=1)  # 16*16*128 | 3*3 | 14*14*256\n",
        "        self.bn2 = nn.BatchNorm2d(256)\n",
        "        self.pool2 = nn.MaxPool2d(2, 2)  # 14*14*256 | 7*7*512\n",
        "        self.drpout2 = nn.Dropout(p=0.25)\n",
        "        self.gap1 =  nn.AvgPool2d(7) # 7*7*256 | 1*1*256\n",
        "        self.fc1 = nn.Linear(256, 10)\n",
        "\n",
        "\n",
        "    def forward(self, x):\n",
        "        x = self.drpout1(self.pool1(self.bn1(F.relu(self.conv2(F.relu(self.conv1(x)))))))\n",
        "        x = self.drpout2(self.pool2(self.bn2(F.relu(self.conv4(F.relu(self.conv3(x)))))))\n",
        "        x = self.gap1(x)\n",
        "        x = x.view(x.shape[0], -1)\n",
        "        x = (self.fc1(x))\n",
        "        return F.log_softmax(x)"
      ],
      "execution_count": 26,
      "outputs": []
    },
    {
      "cell_type": "code",
      "metadata": {
        "id": "xdydjYTZFyi3",
        "colab": {
          "base_uri": "https://localhost:8080/"
        },
        "outputId": "be452179-b2cc-4a83-88d6-2a007bb36f94"
      },
      "source": [
        "!pip install torchsummary\n",
        "from torchsummary import summary\n",
        "use_cuda = torch.cuda.is_available()\n",
        "device = torch.device(\"cuda\" if use_cuda else \"cpu\")\n",
        "model = Net().to(device)\n",
        "summary(model, input_size=(1, 28, 28))"
      ],
      "execution_count": 27,
      "outputs": [
        {
          "output_type": "stream",
          "text": [
            "Requirement already satisfied: torchsummary in /usr/local/lib/python3.7/dist-packages (1.5.1)\n",
            "----------------------------------------------------------------\n",
            "        Layer (type)               Output Shape         Param #\n",
            "================================================================\n",
            "            Conv2d-1           [-1, 32, 28, 28]             320\n",
            "            Conv2d-2           [-1, 64, 28, 28]          18,496\n",
            "       BatchNorm2d-3           [-1, 64, 28, 28]             128\n",
            "         MaxPool2d-4           [-1, 64, 14, 14]               0\n",
            "           Dropout-5           [-1, 64, 14, 14]               0\n",
            "            Conv2d-6          [-1, 128, 14, 14]          73,856\n",
            "            Conv2d-7          [-1, 256, 14, 14]         295,168\n",
            "       BatchNorm2d-8          [-1, 256, 14, 14]             512\n",
            "         MaxPool2d-9            [-1, 256, 7, 7]               0\n",
            "          Dropout-10            [-1, 256, 7, 7]               0\n",
            "        AvgPool2d-11            [-1, 256, 1, 1]               0\n",
            "           Linear-12                   [-1, 10]           2,570\n",
            "================================================================\n",
            "Total params: 391,050\n",
            "Trainable params: 391,050\n",
            "Non-trainable params: 0\n",
            "----------------------------------------------------------------\n",
            "Input size (MB): 0.00\n",
            "Forward/backward pass size (MB): 2.30\n",
            "Params size (MB): 1.49\n",
            "Estimated Total Size (MB): 3.79\n",
            "----------------------------------------------------------------\n"
          ],
          "name": "stdout"
        },
        {
          "output_type": "stream",
          "text": [
            "/usr/local/lib/python3.7/dist-packages/ipykernel_launcher.py:28: UserWarning: Implicit dimension choice for log_softmax has been deprecated. Change the call to include dim=X as an argument.\n"
          ],
          "name": "stderr"
        }
      ]
    },
    {
      "cell_type": "code",
      "metadata": {
        "id": "DqTWLaM5GHgH"
      },
      "source": [
        "\n",
        "\n",
        "torch.manual_seed(1)\n",
        "batch_size = 128\n",
        "\n",
        "kwargs = {'num_workers': 1, 'pin_memory': True} if use_cuda else {}\n",
        "train_loader = torch.utils.data.DataLoader(\n",
        "    datasets.MNIST('../data', train=True, download=True,\n",
        "                    transform=transforms.Compose([\n",
        "                        transforms.ToTensor(),\n",
        "                        transforms.Normalize((0.1307,), (0.3081,))\n",
        "                    ])),\n",
        "    batch_size=batch_size, shuffle=True, **kwargs)\n",
        "test_loader = torch.utils.data.DataLoader(\n",
        "    datasets.MNIST('../data', train=False, transform=transforms.Compose([\n",
        "                        transforms.ToTensor(),\n",
        "                        transforms.Normalize((0.1307,), (0.3081,))\n",
        "                    ])),\n",
        "    batch_size=batch_size, shuffle=True, **kwargs)\n"
      ],
      "execution_count": 28,
      "outputs": []
    },
    {
      "cell_type": "code",
      "metadata": {
        "id": "8fDefDhaFlwH"
      },
      "source": [
        "#every epoch tracking\n",
        "from tqdm import tqdm\n",
        "def train(model, device, train_loader, optimizer):\n",
        "    #pbar = tqdm(train_loader)\n",
        "    for epoch in range(2):\n",
        "      model.train()\n",
        "      correct = 0\n",
        "      loss = 0\n",
        "    \n",
        "      for data, target in train_loader:\n",
        "          data, target = data.to(device), target.to(device)\n",
        "          optimizer.zero_grad()\n",
        "          output = model(data)\n",
        "          loss = F.nll_loss(output, target)\n",
        "          loss.backward()\n",
        "          optimizer.step()\n",
        "          pred = output.argmax(dim=1, keepdim=True)  # get the index of the max log-probability\n",
        "          correct += pred.eq(target.view_as(pred)).sum().item()\n",
        "\n",
        "        #pbar.set_description(desc= f'loss={loss.item()} batch_id={batch_idx}')\n",
        "\n",
        "      print('\\nTrain set: Accuracy: {}/{} ({:.4f}%)'.format(\n",
        "        correct, len(train_loader.dataset),\n",
        "          100. * correct / len(train_loader.dataset)))\n",
        "\n",
        "      model.eval()\n",
        "      test_loss = 0\n",
        "      test_correct = 0\n",
        "      with torch.no_grad():\n",
        "          for data, target in test_loader:\n",
        "              data, target = data.to(device), target.to(device)\n",
        "              output = model(data)\n",
        "              test_loss += F.nll_loss(output, target, reduction='sum').item()  # sum up batch loss\n",
        "              pred = output.argmax(dim=1, keepdim=True)  # get the index of the max log-probability\n",
        "              test_correct += pred.eq(target.view_as(pred)).sum().item()\n",
        "\n",
        "      test_loss /= len(test_loader.dataset)\n",
        "\n",
        "      print('\\nTest set: Average loss: {:.4f}, Accuracy: {}/{} ({:.4f}%)\\n'.format(\n",
        "          test_loss, test_correct, len(test_loader.dataset),\n",
        "          100. * test_correct / len(test_loader.dataset)))\n",
        "    \n",
        "def test(model, device, test_loader):\n",
        "    model.eval()\n",
        "    test_loss = 0\n",
        "    correct = 0\n",
        "    with torch.no_grad():\n",
        "        for data, target in test_loader:\n",
        "            data, target = data.to(device), target.to(device)\n",
        "            output = model(data)\n",
        "            test_loss += F.nll_loss(output, target, reduction='sum').item()  # sum up batch loss\n",
        "            pred = output.argmax(dim=1, keepdim=True)  # get the index of the max log-probability\n",
        "            correct += pred.eq(target.view_as(pred)).sum().item()\n",
        "\n",
        "    test_loss /= len(test_loader.dataset)\n",
        "\n",
        "    print('\\nTest set: Average loss: {:.4f}, Accuracy: {}/{} ({:.4f}%)\\n'.format(\n",
        "        test_loss, correct, len(test_loader.dataset),\n",
        "        100. * correct / len(test_loader.dataset)))"
      ],
      "execution_count": 31,
      "outputs": []
    },
    {
      "cell_type": "code",
      "metadata": {
        "id": "MMWbLWO6FuHb",
        "colab": {
          "base_uri": "https://localhost:8080/"
        },
        "outputId": "4173548a-a626-4fdb-9be4-bdeeecf6df5d"
      },
      "source": [
        "\n",
        "model = Net().to(device)\n",
        "optimizer = optim.SGD(model.parameters(), lr=0.01, momentum=0.9)\n",
        "\n",
        "train(model, device, train_loader, optimizer)\n",
        "test(model, device, test_loader)"
      ],
      "execution_count": 32,
      "outputs": [
        {
          "output_type": "stream",
          "text": [
            "/usr/local/lib/python3.7/dist-packages/ipykernel_launcher.py:28: UserWarning: Implicit dimension choice for log_softmax has been deprecated. Change the call to include dim=X as an argument.\n"
          ],
          "name": "stderr"
        },
        {
          "output_type": "stream",
          "text": [
            "\n",
            "Train set: Accuracy: 55633/60000 (92.7217%)\n",
            "\n",
            "Test set: Average loss: 0.0865, Accuracy: 9772/10000 (97.7200%)\n",
            "\n",
            "\n",
            "Train set: Accuracy: 58999/60000 (98.3317%)\n",
            "\n",
            "Test set: Average loss: 0.0487, Accuracy: 9858/10000 (98.5800%)\n",
            "\n",
            "\n",
            "Test set: Average loss: 0.0487, Accuracy: 9858/10000 (98.5800%)\n",
            "\n"
          ],
          "name": "stdout"
        }
      ]
    },
    {
      "cell_type": "code",
      "metadata": {
        "id": "So5uk4EkHW6R"
      },
      "source": [
        ""
      ],
      "execution_count": null,
      "outputs": []
    }
  ]
}