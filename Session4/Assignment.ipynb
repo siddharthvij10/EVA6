{
  "nbformat": 4,
  "nbformat_minor": 0,
  "metadata": {
    "colab": {
      "name": "EVA4 - Session 2.ipynb",
      "provenance": []
    },
    "kernelspec": {
      "name": "python3",
      "display_name": "Python 3"
    },
    "accelerator": "GPU"
  },
  "cells": [
    {
      "cell_type": "code",
      "metadata": {
        "id": "0m2JWFliFfKT"
      },
      "source": [
        "from __future__ import print_function\n",
        "import torch\n",
        "import torch.nn as nn\n",
        "import torch.nn.functional as F\n",
        "import torch.optim as optim\n",
        "from torchvision import datasets, transforms"
      ],
      "execution_count": 33,
      "outputs": []
    },
    {
      "cell_type": "code",
      "metadata": {
        "id": "h_Cx9q2QFgM7"
      },
      "source": [
        "class Net(nn.Module):\n",
        "    def __init__(self):\n",
        "        super(Net, self).__init__()\n",
        "        self.conv1 = nn.Conv2d(1, 8, 3) #26 -? OUtput? 3\n",
        "        self.bn1 = nn.BatchNorm2d(8)\n",
        "\n",
        "        self.conv2 = nn.Conv2d(8, 16, 3) #24,,5\n",
        "        self.bn2 = nn.BatchNorm2d(16)\n",
        "        \n",
        "        self.conv3 = nn.Conv2d(16, 16, 3) #22,,5\n",
        "        self.bn3 = nn.BatchNorm2d(16)\n",
        "        self.pool1 = nn.MaxPool2d(2, 2)#11,,10\n",
        "\n",
        "        self.conv4 = nn.Conv2d(16, 24, 3)#9,,12\n",
        "        self.bn4 = nn.BatchNorm2d(24)\n",
        "                \n",
        "        self.conv5 = nn.Conv2d(24, 24, 3)#7,,12\n",
        "        self.bn5 = nn.BatchNorm2d(24)\n",
        "        \n",
        "        self.conv6 = nn.Conv2d(24, 32, 3)#5,,12\n",
        "        self.bn6 = nn.BatchNorm2d(32)\n",
        "        self.pool2 = nn.AvgPool2d(5)#1,,28\n",
        "        \n",
        "        self.fc1 = nn.Linear(32,10)\n",
        "        self.dropout = nn.Dropout(0.1)\n",
        "\n",
        "    def forward(self, x):\n",
        "        x = self.bn1(F.relu(self.conv1(x)))\n",
        "        \n",
        "        x = self.bn2(F.relu(self.conv2(x)))\n",
        "        \n",
        "        x = self.pool1(self.bn3(F.relu(self.conv3(x))))\n",
        "        x = self.dropout(x)\n",
        "\n",
        "        x = self.bn4(F.relu(self.conv4(x)))\n",
        "        x = self.dropout(x)\n",
        "        \n",
        "        x = self.bn5(F.relu(self.conv5(x)))\n",
        "        x = self.dropout(x)\n",
        "        x = self.bn6(F.relu(self.conv6(x)))\n",
        "        x = self.pool2(x)\n",
        "        \n",
        "        x = x.view(-1,32)\n",
        "\n",
        "        x = self.fc1(x)\n",
        "        x = x.view(-1, 10)\n",
        "        return F.log_softmax(x)"
      ],
      "execution_count": 34,
      "outputs": []
    },
    {
      "cell_type": "code",
      "metadata": {
        "id": "xdydjYTZFyi3",
        "colab": {
          "base_uri": "https://localhost:8080/"
        },
        "outputId": "69f7da89-460e-4658-e0c1-6eef4348ea09"
      },
      "source": [
        "!pip install torchsummary\n",
        "from torchsummary import summary\n",
        "use_cuda = torch.cuda.is_available()\n",
        "device = torch.device(\"cuda\" if use_cuda else \"cpu\")\n",
        "model = Net().to(device)\n",
        "summary(model, input_size=(1, 28, 28))"
      ],
      "execution_count": 35,
      "outputs": [
        {
          "output_type": "stream",
          "text": [
            "Requirement already satisfied: torchsummary in /usr/local/lib/python3.7/dist-packages (1.5.1)\n",
            "----------------------------------------------------------------\n",
            "        Layer (type)               Output Shape         Param #\n",
            "================================================================\n",
            "            Conv2d-1            [-1, 8, 26, 26]              80\n",
            "       BatchNorm2d-2            [-1, 8, 26, 26]              16\n",
            "            Conv2d-3           [-1, 16, 24, 24]           1,168\n",
            "       BatchNorm2d-4           [-1, 16, 24, 24]              32\n",
            "            Conv2d-5           [-1, 16, 22, 22]           2,320\n",
            "       BatchNorm2d-6           [-1, 16, 22, 22]              32\n",
            "         MaxPool2d-7           [-1, 16, 11, 11]               0\n",
            "           Dropout-8           [-1, 16, 11, 11]               0\n",
            "            Conv2d-9             [-1, 24, 9, 9]           3,480\n",
            "      BatchNorm2d-10             [-1, 24, 9, 9]              48\n",
            "          Dropout-11             [-1, 24, 9, 9]               0\n",
            "           Conv2d-12             [-1, 24, 7, 7]           5,208\n",
            "      BatchNorm2d-13             [-1, 24, 7, 7]              48\n",
            "          Dropout-14             [-1, 24, 7, 7]               0\n",
            "           Conv2d-15             [-1, 32, 5, 5]           6,944\n",
            "      BatchNorm2d-16             [-1, 32, 5, 5]              64\n",
            "        AvgPool2d-17             [-1, 32, 1, 1]               0\n",
            "           Linear-18                   [-1, 10]             330\n",
            "================================================================\n",
            "Total params: 19,770\n",
            "Trainable params: 19,770\n",
            "Non-trainable params: 0\n",
            "----------------------------------------------------------------\n",
            "Input size (MB): 0.00\n",
            "Forward/backward pass size (MB): 0.45\n",
            "Params size (MB): 0.08\n",
            "Estimated Total Size (MB): 0.53\n",
            "----------------------------------------------------------------\n"
          ],
          "name": "stdout"
        },
        {
          "output_type": "stream",
          "text": [
            "/usr/local/lib/python3.7/dist-packages/ipykernel_launcher.py:47: UserWarning: Implicit dimension choice for log_softmax has been deprecated. Change the call to include dim=X as an argument.\n"
          ],
          "name": "stderr"
        }
      ]
    },
    {
      "cell_type": "code",
      "metadata": {
        "id": "DqTWLaM5GHgH"
      },
      "source": [
        "\n",
        "\n",
        "torch.manual_seed(1)\n",
        "batch_size = 128\n",
        "\n",
        "kwargs = {'num_workers': 1, 'pin_memory': True} if use_cuda else {}\n",
        "train_loader = torch.utils.data.DataLoader(\n",
        "    datasets.MNIST('../data', train=True, download=True,\n",
        "                    transform=transforms.Compose([\n",
        "                        transforms.ToTensor(),\n",
        "                        transforms.Normalize((0.1307,), (0.3081,))\n",
        "                    ])),\n",
        "    batch_size=batch_size, shuffle=True, **kwargs)\n",
        "test_loader = torch.utils.data.DataLoader(\n",
        "    datasets.MNIST('../data', train=False, transform=transforms.Compose([\n",
        "                        transforms.ToTensor(),\n",
        "                        transforms.Normalize((0.1307,), (0.3081,))\n",
        "                    ])),\n",
        "    batch_size=batch_size, shuffle=True, **kwargs)\n"
      ],
      "execution_count": 36,
      "outputs": []
    },
    {
      "cell_type": "code",
      "metadata": {
        "id": "8fDefDhaFlwH"
      },
      "source": [
        "#every epoch tracking\n",
        "from tqdm import tqdm\n",
        "def train(model, device, train_loader, optimizer):\n",
        "    #pbar = tqdm(train_loader)\n",
        "    for epoch in range(2):\n",
        "      model.train()\n",
        "      correct = 0\n",
        "      loss = 0\n",
        "    \n",
        "      for data, target in train_loader:\n",
        "          data, target = data.to(device), target.to(device)\n",
        "          optimizer.zero_grad()\n",
        "          output = model(data)\n",
        "          loss = F.nll_loss(output, target)\n",
        "          loss.backward()\n",
        "          optimizer.step()\n",
        "          pred = output.argmax(dim=1, keepdim=True)  # get the index of the max log-probability\n",
        "          correct += pred.eq(target.view_as(pred)).sum().item()\n",
        "\n",
        "        #pbar.set_description(desc= f'loss={loss.item()} batch_id={batch_idx}')\n",
        "\n",
        "      print('\\nTrain set: Accuracy: {}/{} ({:.4f}%)'.format(\n",
        "        correct, len(train_loader.dataset),\n",
        "          100. * correct / len(train_loader.dataset)))\n",
        "\n",
        "      model.eval()\n",
        "      test_loss = 0\n",
        "      test_correct = 0\n",
        "      with torch.no_grad():\n",
        "          for data, target in test_loader:\n",
        "              data, target = data.to(device), target.to(device)\n",
        "              output = model(data)\n",
        "              test_loss += F.nll_loss(output, target, reduction='sum').item()  # sum up batch loss\n",
        "              pred = output.argmax(dim=1, keepdim=True)  # get the index of the max log-probability\n",
        "              test_correct += pred.eq(target.view_as(pred)).sum().item()\n",
        "\n",
        "      test_loss /= len(test_loader.dataset)\n",
        "\n",
        "      print('\\nTest set: Average loss: {:.4f}, Accuracy: {}/{} ({:.4f}%)\\n'.format(\n",
        "          test_loss, test_correct, len(test_loader.dataset),\n",
        "          100. * test_correct / len(test_loader.dataset)))\n",
        "    \n",
        "def test(model, device, test_loader):\n",
        "    model.eval()\n",
        "    test_loss = 0\n",
        "    correct = 0\n",
        "    with torch.no_grad():\n",
        "        for data, target in test_loader:\n",
        "            data, target = data.to(device), target.to(device)\n",
        "            output = model(data)\n",
        "            test_loss += F.nll_loss(output, target, reduction='sum').item()  # sum up batch loss\n",
        "            pred = output.argmax(dim=1, keepdim=True)  # get the index of the max log-probability\n",
        "            correct += pred.eq(target.view_as(pred)).sum().item()\n",
        "\n",
        "    test_loss /= len(test_loader.dataset)\n",
        "\n",
        "    print('\\nTest set: Average loss: {:.4f}, Accuracy: {}/{} ({:.4f}%)\\n'.format(\n",
        "        test_loss, correct, len(test_loader.dataset),\n",
        "        100. * correct / len(test_loader.dataset)))"
      ],
      "execution_count": 37,
      "outputs": []
    },
    {
      "cell_type": "code",
      "metadata": {
        "id": "MMWbLWO6FuHb",
        "colab": {
          "base_uri": "https://localhost:8080/"
        },
        "outputId": "fc2ab98e-1362-44ed-feb6-2d1008b7fa16"
      },
      "source": [
        "\n",
        "model = Net().to(device)\n",
        "optimizer = optim.SGD(model.parameters(), lr=0.01, momentum=0.9)\n",
        "\n",
        "train(model, device, train_loader, optimizer)\n",
        "test(model, device, test_loader)"
      ],
      "execution_count": 38,
      "outputs": [
        {
          "output_type": "stream",
          "text": [
            "/usr/local/lib/python3.7/dist-packages/ipykernel_launcher.py:47: UserWarning: Implicit dimension choice for log_softmax has been deprecated. Change the call to include dim=X as an argument.\n"
          ],
          "name": "stderr"
        },
        {
          "output_type": "stream",
          "text": [
            "\n",
            "Train set: Accuracy: 54863/60000 (91.4383%)\n",
            "\n",
            "Test set: Average loss: 0.0605, Accuracy: 9834/10000 (98.3400%)\n",
            "\n",
            "\n",
            "Train set: Accuracy: 58955/60000 (98.2583%)\n",
            "\n",
            "Test set: Average loss: 0.0371, Accuracy: 9904/10000 (99.0400%)\n",
            "\n",
            "\n",
            "Test set: Average loss: 0.0371, Accuracy: 9904/10000 (99.0400%)\n",
            "\n"
          ],
          "name": "stdout"
        }
      ]
    },
    {
      "cell_type": "code",
      "metadata": {
        "id": "So5uk4EkHW6R"
      },
      "source": [
        ""
      ],
      "execution_count": 38,
      "outputs": []
    }
  ]
}