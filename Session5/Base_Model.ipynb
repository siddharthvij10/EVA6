{
  "nbformat": 4,
  "nbformat_minor": 0,
  "metadata": {
    "colab": {
      "name": "EVA4 - Session 2.ipynb",
      "provenance": []
    },
    "kernelspec": {
      "name": "python3",
      "display_name": "Python 3"
    },
    "accelerator": "GPU"
  },
  "cells": [
    {
      "cell_type": "code",
      "metadata": {
        "id": "0m2JWFliFfKT"
      },
      "source": [
        "from __future__ import print_function\n",
        "import torch\n",
        "import torch.nn as nn\n",
        "import torch.nn.functional as F\n",
        "import torch.optim as optim\n",
        "from torchvision import datasets, transforms\n",
        "\n",
        "\n",
        "import warnings\n",
        "warnings.filterwarnings(\"ignore\")"
      ],
      "execution_count": 162,
      "outputs": []
    },
    {
      "cell_type": "code",
      "metadata": {
        "id": "h_Cx9q2QFgM7"
      },
      "source": [
        "class Net(nn.Module):\n",
        "    def __init__(self):\n",
        "        super(Net, self).__init__()\n",
        "\n",
        "        self.convblock1 = nn.Sequential(\n",
        "            nn.Conv2d(in_channels=1, out_channels=32, kernel_size=(3, 3), padding=1, bias=False),\n",
        "            nn.ReLU(),\n",
        "        ) # output_size = \n",
        "\n",
        "        self.convblock2 = nn.Sequential(\n",
        "            nn.Conv2d(in_channels=32, out_channels=64, kernel_size=(3, 3), padding=1, bias=False),\n",
        "            nn.ReLU(),\n",
        "        ) # output_size = \n",
        "\n",
        "        self.pool1 = nn.MaxPool2d(2, 2) # output_size = 1\n",
        "\n",
        "        self.convblock3 = nn.Sequential(\n",
        "            nn.Conv2d(in_channels=64, out_channels=128, kernel_size=(3, 3), padding=1, bias=False),\n",
        "            nn.ReLU(),\n",
        "        ) # output_size = \n",
        "\n",
        "        self.convblock4 = nn.Sequential(\n",
        "            nn.Conv2d(in_channels=128, out_channels=256, kernel_size=(3, 3), padding=1, bias=False),\n",
        "            nn.ReLU(),\n",
        "        ) # output_size = \n",
        "\n",
        "        self.pool2 = nn.MaxPool2d(2, 2) # output_size = 12\n",
        "\n",
        "        self.convblock5 = nn.Sequential(\n",
        "            nn.Conv2d(in_channels=256, out_channels=512, kernel_size=(3, 3), padding=0, bias=False),\n",
        "            nn.ReLU(),\n",
        "        ) # output_size = \n",
        "\n",
        "        self.convblock6 = nn.Sequential(\n",
        "            nn.Conv2d(in_channels=512, out_channels=1024, kernel_size=(3, 3), padding=0, bias=False),\n",
        "            nn.ReLU(),\n",
        "        ) # output_size = \n",
        "\n",
        "        self.convblock7 = nn.Sequential(\n",
        "            nn.Conv2d(in_channels=1024, out_channels=10, kernel_size=(3, 3), padding=0, bias=False),\n",
        "        ) # output_size = \n",
        "\n",
        "    def forward(self, x):\n",
        "        # Adding drop out reduces the accuracy a bit\n",
        "        x = self.convblock1(x)\n",
        "        x = self.convblock2(x)\n",
        "        x = self.pool1(x)\n",
        "        x = self.convblock3(x)\n",
        "        x = self.convblock4(x)\n",
        "        x = self.pool2(x)\n",
        "        x = self.convblock5(x)\n",
        "        x = self.convblock6(x)\n",
        "        x = self.convblock7(x)\n",
        "        x = x.view(-1, 10)\n",
        "        return F.log_softmax(x)"
      ],
      "execution_count": 163,
      "outputs": []
    },
    {
      "cell_type": "code",
      "metadata": {
        "id": "xdydjYTZFyi3",
        "colab": {
          "base_uri": "https://localhost:8080/"
        },
        "outputId": "e9755e02-788e-49c1-9e29-ad39d27c2a13"
      },
      "source": [
        "!pip install torchsummary\n",
        "from torchsummary import summary\n",
        "use_cuda = torch.cuda.is_available()\n",
        "device = torch.device(\"cuda\" if use_cuda else \"cpu\")\n",
        "model = Net().to(device)\n",
        "summary(model, input_size=(1, 28, 28))"
      ],
      "execution_count": 164,
      "outputs": [
        {
          "output_type": "stream",
          "text": [
            "Requirement already satisfied: torchsummary in /usr/local/lib/python3.7/dist-packages (1.5.1)\n",
            "----------------------------------------------------------------\n",
            "        Layer (type)               Output Shape         Param #\n",
            "================================================================\n",
            "            Conv2d-1           [-1, 32, 28, 28]             288\n",
            "              ReLU-2           [-1, 32, 28, 28]               0\n",
            "            Conv2d-3           [-1, 64, 28, 28]          18,432\n",
            "              ReLU-4           [-1, 64, 28, 28]               0\n",
            "         MaxPool2d-5           [-1, 64, 14, 14]               0\n",
            "            Conv2d-6          [-1, 128, 14, 14]          73,728\n",
            "              ReLU-7          [-1, 128, 14, 14]               0\n",
            "            Conv2d-8          [-1, 256, 14, 14]         294,912\n",
            "              ReLU-9          [-1, 256, 14, 14]               0\n",
            "        MaxPool2d-10            [-1, 256, 7, 7]               0\n",
            "           Conv2d-11            [-1, 512, 5, 5]       1,179,648\n",
            "             ReLU-12            [-1, 512, 5, 5]               0\n",
            "           Conv2d-13           [-1, 1024, 3, 3]       4,718,592\n",
            "             ReLU-14           [-1, 1024, 3, 3]               0\n",
            "           Conv2d-15             [-1, 10, 1, 1]          92,160\n",
            "================================================================\n",
            "Total params: 6,377,760\n",
            "Trainable params: 6,377,760\n",
            "Non-trainable params: 0\n",
            "----------------------------------------------------------------\n",
            "Input size (MB): 0.00\n",
            "Forward/backward pass size (MB): 2.82\n",
            "Params size (MB): 24.33\n",
            "Estimated Total Size (MB): 27.16\n",
            "----------------------------------------------------------------\n"
          ],
          "name": "stdout"
        }
      ]
    },
    {
      "cell_type": "code",
      "metadata": {
        "id": "DqTWLaM5GHgH"
      },
      "source": [
        "\n",
        "\n",
        "torch.manual_seed(1)\n",
        "batch_size = 128\n",
        "\n",
        "kwargs = {'num_workers': 1, 'pin_memory': True} if use_cuda else {}\n",
        "train_loader = torch.utils.data.DataLoader(\n",
        "    datasets.MNIST('../data', train=True, download=True,\n",
        "                    transform=transforms.Compose([\n",
        "                        transforms.ToTensor(),\n",
        "                        transforms.Normalize((0.1307,), (0.3081,))\n",
        "                    ])),\n",
        "    batch_size=batch_size, shuffle=True, **kwargs)\n",
        "test_loader = torch.utils.data.DataLoader(\n",
        "    datasets.MNIST('../data', train=False, transform=transforms.Compose([\n",
        "                        transforms.ToTensor(),\n",
        "                        transforms.Normalize((0.1307,), (0.3081,))\n",
        "                    ])),\n",
        "    batch_size=batch_size, shuffle=True, **kwargs)\n"
      ],
      "execution_count": 165,
      "outputs": []
    },
    {
      "cell_type": "code",
      "metadata": {
        "id": "8fDefDhaFlwH"
      },
      "source": [
        "from tqdm import tqdm\n",
        "\n",
        "\n",
        "def train(model, device, train_loader, optimizer, epoch, train_loss_graph, train_accuracy_graph):\n",
        "    model.train()\n",
        "    train_loss = 0\n",
        "    correct = 0\n",
        "    for data, target in train_loader:\n",
        "        data, target = data.to(device), target.to(device)\n",
        "        optimizer.zero_grad()\n",
        "        output = model(data)\n",
        "        loss = F.nll_loss(output, target)\n",
        "        loss.backward()\n",
        "        optimizer.step()\n",
        "        \n",
        "        train_loss += loss.item()\n",
        "        pred = output.argmax(dim=1, keepdim=True)\n",
        "        correct += pred.eq(target.view_as(pred)).sum().item()\n",
        "    train_loss /= len(train_loader.dataset)\n",
        "    accuracy = 100. * correct / len(train_loader.dataset)\n",
        "    print('Train set: Average loss: {:.4f}, Accuracy: {}/{} ({:.2f}%)'.format(\n",
        "        train_loss, correct, len(train_loader.dataset), accuracy\n",
        "        ))\n",
        "    \n",
        "    train_loss_graph.append(train_loss)\n",
        "    train_accuracy_graph.append(accuracy)\n",
        "    return train_loss_graph, train_accuracy_graph, accuracy\n",
        "\n",
        "incorrect_examples = []\n",
        "def test(model, device, test_loader, test_loss_graph, test_accuracy_graph):\n",
        "    model.eval()\n",
        "    test_loss = 0\n",
        "    correct = 0\n",
        "    with torch.no_grad():\n",
        "        for data, target in test_loader:\n",
        "            data, target = data.to(device), target.to(device)\n",
        "            output = model(data)\n",
        "            test_loss += F.nll_loss(output, target, reduction='sum').item()  # sum up batch loss\n",
        "            pred = output.argmax(dim=1, keepdim=True)  # get the index of the max log-probability\n",
        "            correct += pred.eq(target.view_as(pred)).sum().item()\n",
        "\n",
        "    test_loss /= len(test_loader.dataset)\n",
        "    accuracy = 100. * correct / len(test_loader.dataset)\n",
        "    print('Test set: Average loss: {:.4f}, Accuracy: {}/{} ({:.2f}%)\\n'.format(\n",
        "        test_loss, correct, len(test_loader.dataset),accuracy\n",
        "        ))\n",
        "    test_loss_graph.append(test_loss)\n",
        "    test_accuracy_graph.append(accuracy)\n",
        "    return test_loss_graph, test_accuracy_graph\n"
      ],
      "execution_count": 166,
      "outputs": []
    },
    {
      "cell_type": "code",
      "metadata": {
        "id": "MMWbLWO6FuHb",
        "colab": {
          "base_uri": "https://localhost:8080/",
          "height": 1000
        },
        "outputId": "00bdc675-1320-46ab-aea0-692314e1f7f2"
      },
      "source": [
        "model = Net().to(device)\n",
        "optimizer = optim.SGD(model.parameters(), lr=0.01, momentum=0.9)\n",
        "\n",
        "train_loss_graph = []\n",
        "train_accuracy_graph = []\n",
        "test_loss_graph = []\n",
        "test_accuracy_graph = []\n",
        "for epoch in range(1, 16):\n",
        "    print('epoch number ', epoch)\n",
        "    train_loss_graph, train_accuracy_graph, accuracy = train(model, device, train_loader, optimizer, epoch, train_loss_graph, train_accuracy_graph)\n",
        "    test_loss_graph, test_accuracy_graph = test(model, device, test_loader, test_loss_graph, test_accuracy_graph)\n",
        "\n",
        "import matplotlib.pyplot as plt\n",
        "\n",
        "print(train_loss_graph, test_loss_graph)\n",
        "print(train_accuracy_graph, test_accuracy_graph)\n",
        "plt.figure(figsize=(10,5))\n",
        "plt.title(\"Training and Test Loss\")\n",
        "plt.plot(train_loss_graph,label=\"train_loss\")\n",
        "plt.plot(test_loss_graph,label=\"test_loss\")\n",
        "plt.xlabel(\"iterations\")\n",
        "plt.ylabel(\"Loss\")\n",
        "plt.legend()\n",
        "plt.show()\n",
        "\n",
        "plt.figure(figsize=(10,5))\n",
        "plt.title(\"Training and Test Accuracy\")\n",
        "plt.plot(train_accuracy_graph,label=\"train_accuracy\")\n",
        "plt.plot(test_accuracy_graph,label=\"test_accuracy\")\n",
        "plt.xlabel(\"iterations\")\n",
        "plt.ylabel(\"Accuracy\")\n",
        "plt.legend()\n",
        "plt.show()\n"
      ],
      "execution_count": 167,
      "outputs": [
        {
          "output_type": "stream",
          "text": [
            "epoch number  1\n",
            "Train set: Average loss: 0.0032, Accuracy: 52317/60000 (87.19%)\n",
            "Test set: Average loss: 0.0619, Accuracy: 9803/10000 (98.03%)\n",
            "\n",
            "epoch number  2\n",
            "Train set: Average loss: 0.0004, Accuracy: 58986/60000 (98.31%)\n",
            "Test set: Average loss: 0.0472, Accuracy: 9847/10000 (98.47%)\n",
            "\n",
            "epoch number  3\n",
            "Train set: Average loss: 0.0003, Accuracy: 59318/60000 (98.86%)\n",
            "Test set: Average loss: 0.0341, Accuracy: 9877/10000 (98.77%)\n",
            "\n",
            "epoch number  4\n",
            "Train set: Average loss: 0.0002, Accuracy: 59499/60000 (99.17%)\n",
            "Test set: Average loss: 0.0312, Accuracy: 9895/10000 (98.95%)\n",
            "\n",
            "epoch number  5\n",
            "Train set: Average loss: 0.0002, Accuracy: 59649/60000 (99.42%)\n",
            "Test set: Average loss: 0.0317, Accuracy: 9898/10000 (98.98%)\n",
            "\n",
            "epoch number  6\n",
            "Train set: Average loss: 0.0001, Accuracy: 59706/60000 (99.51%)\n",
            "Test set: Average loss: 0.0293, Accuracy: 9909/10000 (99.09%)\n",
            "\n",
            "epoch number  7\n",
            "Train set: Average loss: 0.0001, Accuracy: 59774/60000 (99.62%)\n",
            "Test set: Average loss: 0.0275, Accuracy: 9903/10000 (99.03%)\n",
            "\n",
            "epoch number  8\n",
            "Train set: Average loss: 0.0001, Accuracy: 59837/60000 (99.73%)\n",
            "Test set: Average loss: 0.0288, Accuracy: 9907/10000 (99.07%)\n",
            "\n",
            "epoch number  9\n",
            "Train set: Average loss: 0.0001, Accuracy: 59874/60000 (99.79%)\n",
            "Test set: Average loss: 0.0303, Accuracy: 9911/10000 (99.11%)\n",
            "\n",
            "epoch number  10\n",
            "Train set: Average loss: 0.0000, Accuracy: 59880/60000 (99.80%)\n",
            "Test set: Average loss: 0.0355, Accuracy: 9913/10000 (99.13%)\n",
            "\n",
            "epoch number  11\n",
            "Train set: Average loss: 0.0000, Accuracy: 59889/60000 (99.81%)\n",
            "Test set: Average loss: 0.0373, Accuracy: 9897/10000 (98.97%)\n",
            "\n",
            "epoch number  12\n",
            "Train set: Average loss: 0.0000, Accuracy: 59925/60000 (99.88%)\n",
            "Test set: Average loss: 0.0363, Accuracy: 9906/10000 (99.06%)\n",
            "\n",
            "epoch number  13\n",
            "Train set: Average loss: 0.0000, Accuracy: 59942/60000 (99.90%)\n",
            "Test set: Average loss: 0.0293, Accuracy: 9924/10000 (99.24%)\n",
            "\n",
            "epoch number  14\n",
            "Train set: Average loss: 0.0000, Accuracy: 59955/60000 (99.92%)\n",
            "Test set: Average loss: 0.0327, Accuracy: 9920/10000 (99.20%)\n",
            "\n",
            "epoch number  15\n",
            "Train set: Average loss: 0.0000, Accuracy: 59965/60000 (99.94%)\n",
            "Test set: Average loss: 0.0345, Accuracy: 9914/10000 (99.14%)\n",
            "\n",
            "[0.0031510256071885425, 0.0004263899299393718, 0.000284505557550195, 0.000207065894176291, 0.0001528496282097573, 0.00011768473558743911, 9.809846620531365e-05, 7.260956764669875e-05, 5.1707504987886446e-05, 4.4362418137128166e-05, 4.5083340948106826e-05, 2.9789476893680936e-05, 2.5002490854762983e-05, 1.908017419907537e-05, 1.9202841557883706e-05] [0.061936362470686436, 0.047226879120618105, 0.03413825134176295, 0.031237763381004334, 0.03173549639359117, 0.029259538430743852, 0.027461159609886817, 0.028809724974201527, 0.030273671508702683, 0.035505754522327335, 0.03734911351623014, 0.03630532861147076, 0.029336206578511336, 0.03274149934037487, 0.034455791067378595]\n",
            "[87.195, 98.31, 98.86333333333333, 99.165, 99.415, 99.51, 99.62333333333333, 99.72833333333334, 99.79, 99.8, 99.815, 99.875, 99.90333333333334, 99.925, 99.94166666666666] [98.03, 98.47, 98.77, 98.95, 98.98, 99.09, 99.03, 99.07, 99.11, 99.13, 98.97, 99.06, 99.24, 99.2, 99.14]\n"
          ],
          "name": "stdout"
        },
        {
          "output_type": "display_data",
          "data": {
            "image/png": "[encoded data removed]",
            "text/plain": [
              "<Figure size 720x360 with 1 Axes>"
            ]
          },
          "metadata": {
            "tags": [],
            "needs_background": "light"
          }
        },
        {
          "output_type": "display_data",
          "data": {
            "image/png": "[encoded data removed]",
            "text/plain": [
              "<Figure size 720x360 with 1 Axes>"
            ]
          },
          "metadata": {
            "tags": [],
            "needs_background": "light"
          }
        }
      ]
    }
  ]
}