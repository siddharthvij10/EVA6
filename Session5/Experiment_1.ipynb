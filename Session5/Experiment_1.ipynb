{
  "nbformat": 4,
  "nbformat_minor": 0,
  "metadata": {
    "colab": {
      "name": "EVA4 - Session 2.ipynb",
      "provenance": []
    },
    "kernelspec": {
      "name": "python3",
      "display_name": "Python 3"
    },
    "accelerator": "GPU"
  },
  "cells": [
    {
      "cell_type": "code",
      "metadata": {
        "id": "0m2JWFliFfKT"
      },
      "source": [
        "from __future__ import print_function\n",
        "import torch\n",
        "import torch.nn as nn\n",
        "import torch.nn.functional as F\n",
        "import torch.optim as optim\n",
        "from torchvision import datasets, transforms\n",
        "\n",
        "\n",
        "import warnings\n",
        "warnings.filterwarnings(\"ignore\")"
      ],
      "execution_count": 168,
      "outputs": []
    },
    {
      "cell_type": "code",
      "metadata": {
        "id": "h_Cx9q2QFgM7"
      },
      "source": [
        "class Net(nn.Module):\n",
        "    def __init__(self):\n",
        "        super(Net, self).__init__()\n",
        "        self.convblock1 = nn.Sequential(\n",
        "            nn.Conv2d(in_channels=1, out_channels=8, kernel_size=(3, 3), padding=1, bias=False),\n",
        "            nn.ReLU(),\n",
        "        ) # \n",
        "\n",
        "        self.convblock2 = nn.Sequential(\n",
        "            nn.Conv2d(in_channels=8, out_channels=8, kernel_size=(3, 3), padding=1, bias=False),\n",
        "            nn.ReLU(),\n",
        "        ) # \n",
        "\n",
        "        self.pool1 = nn.MaxPool2d(2, 2) # output_size = 12\n",
        "\n",
        "        self.convblock3 = nn.Sequential(\n",
        "            nn.Conv2d(in_channels=8, out_channels=16, kernel_size=(3, 3), padding=1, bias=False),\n",
        "            nn.ReLU(),\n",
        "        ) # \n",
        "\n",
        "        self.convblock4 = nn.Sequential(\n",
        "            nn.Conv2d(in_channels=16, out_channels=16, kernel_size=(3, 3), padding=1, bias=False),\n",
        "            nn.ReLU(),\n",
        "        ) #\n",
        "\n",
        "        self.pool2 = nn.MaxPool2d(2, 2) #\n",
        "        self.convblock100 = nn.Sequential(\n",
        "            nn.Conv2d(in_channels=16, out_channels=8, kernel_size=(1, 1), padding=0, bias=False),\n",
        "        ) #\n",
        "\n",
        "        self.convblock5 = nn.Sequential(\n",
        "            nn.Conv2d(in_channels=8, out_channels=16, kernel_size=(3, 3), padding=0, bias=False),\n",
        "            nn.ReLU(),\n",
        "        ) # \n",
        "\n",
        "        self.convblock6 = nn.Sequential(\n",
        "            nn.Conv2d(in_channels=16, out_channels=16, kernel_size=(3, 3), padding=0, bias=False),\n",
        "            nn.ReLU(),\n",
        "        ) # \n",
        "\n",
        "        self.convblock7 = nn.Sequential(\n",
        "            nn.Conv2d(in_channels=16, out_channels=10, kernel_size=(3, 3), padding=0, bias=False),\n",
        "        ) # \n",
        "\n",
        "    def forward(self, x):\n",
        "        x = self.convblock1(x)\n",
        "        x = self.convblock2(x)\n",
        "        x = self.pool1(x)\n",
        "        x = self.convblock3(x)\n",
        "        x = self.convblock4(x)\n",
        "        x = self.pool2(x)\n",
        "        x = self.convblock100(x)\n",
        "        x = self.convblock5(x)\n",
        "        x = self.convblock6(x)\n",
        "        x = self.convblock7(x)\n",
        "        x = x.view(-1, 10)\n",
        "        return F.log_softmax(x)"
      ],
      "execution_count": 169,
      "outputs": []
    },
    {
      "cell_type": "code",
      "metadata": {
        "id": "xdydjYTZFyi3",
        "colab": {
          "base_uri": "https://localhost:8080/"
        },
        "outputId": "4962618c-f7db-4446-9d25-2fd435f12c4e"
      },
      "source": [
        "!pip install torchsummary\n",
        "from torchsummary import summary\n",
        "use_cuda = torch.cuda.is_available()\n",
        "device = torch.device(\"cuda\" if use_cuda else \"cpu\")\n",
        "model = Net().to(device)\n",
        "summary(model, input_size=(1, 28, 28))"
      ],
      "execution_count": 170,
      "outputs": [
        {
          "output_type": "stream",
          "text": [
            "Requirement already satisfied: torchsummary in /usr/local/lib/python3.7/dist-packages (1.5.1)\n",
            "----------------------------------------------------------------\n",
            "        Layer (type)               Output Shape         Param #\n",
            "================================================================\n",
            "            Conv2d-1            [-1, 8, 28, 28]              72\n",
            "              ReLU-2            [-1, 8, 28, 28]               0\n",
            "            Conv2d-3            [-1, 8, 28, 28]             576\n",
            "              ReLU-4            [-1, 8, 28, 28]               0\n",
            "         MaxPool2d-5            [-1, 8, 14, 14]               0\n",
            "            Conv2d-6           [-1, 16, 14, 14]           1,152\n",
            "              ReLU-7           [-1, 16, 14, 14]               0\n",
            "            Conv2d-8           [-1, 16, 14, 14]           2,304\n",
            "              ReLU-9           [-1, 16, 14, 14]               0\n",
            "        MaxPool2d-10             [-1, 16, 7, 7]               0\n",
            "           Conv2d-11              [-1, 8, 7, 7]             128\n",
            "           Conv2d-12             [-1, 16, 5, 5]           1,152\n",
            "             ReLU-13             [-1, 16, 5, 5]               0\n",
            "           Conv2d-14             [-1, 16, 3, 3]           2,304\n",
            "             ReLU-15             [-1, 16, 3, 3]               0\n",
            "           Conv2d-16             [-1, 10, 1, 1]           1,440\n",
            "================================================================\n",
            "Total params: 9,128\n",
            "Trainable params: 9,128\n",
            "Non-trainable params: 0\n",
            "----------------------------------------------------------------\n",
            "Input size (MB): 0.00\n",
            "Forward/backward pass size (MB): 0.32\n",
            "Params size (MB): 0.03\n",
            "Estimated Total Size (MB): 0.35\n",
            "----------------------------------------------------------------\n"
          ],
          "name": "stdout"
        }
      ]
    },
    {
      "cell_type": "code",
      "metadata": {
        "id": "DqTWLaM5GHgH"
      },
      "source": [
        "\n",
        "\n",
        "torch.manual_seed(1)\n",
        "batch_size = 128\n",
        "\n",
        "kwargs = {'num_workers': 1, 'pin_memory': True} if use_cuda else {}\n",
        "train_loader = torch.utils.data.DataLoader(\n",
        "    datasets.MNIST('../data', train=True, download=True,\n",
        "                    transform=transforms.Compose([\n",
        "                        transforms.ToTensor(),\n",
        "                        transforms.Normalize((0.1307,), (0.3081,))\n",
        "                    ])),\n",
        "    batch_size=batch_size, shuffle=True, **kwargs)\n",
        "test_loader = torch.utils.data.DataLoader(\n",
        "    datasets.MNIST('../data', train=False, transform=transforms.Compose([\n",
        "                        transforms.ToTensor(),\n",
        "                        transforms.Normalize((0.1307,), (0.3081,))\n",
        "                    ])),\n",
        "    batch_size=batch_size, shuffle=True, **kwargs)\n"
      ],
      "execution_count": 171,
      "outputs": []
    },
    {
      "cell_type": "code",
      "metadata": {
        "id": "8fDefDhaFlwH"
      },
      "source": [
        "from tqdm import tqdm\n",
        "\n",
        "\n",
        "def train(model, device, train_loader, optimizer, epoch, train_loss_graph, train_accuracy_graph):\n",
        "    model.train()\n",
        "    train_loss = 0\n",
        "    correct = 0\n",
        "    for data, target in train_loader:\n",
        "        data, target = data.to(device), target.to(device)\n",
        "        optimizer.zero_grad()\n",
        "        output = model(data)\n",
        "        loss = F.nll_loss(output, target)\n",
        "        loss.backward()\n",
        "        optimizer.step()\n",
        "        \n",
        "        train_loss += loss.item()\n",
        "        pred = output.argmax(dim=1, keepdim=True)\n",
        "        correct += pred.eq(target.view_as(pred)).sum().item()\n",
        "    train_loss /= len(train_loader.dataset)\n",
        "    accuracy = 100. * correct / len(train_loader.dataset)\n",
        "    print('Train set: Average loss: {:.4f}, Accuracy: {}/{} ({:.2f}%)'.format(\n",
        "        train_loss, correct, len(train_loader.dataset), accuracy\n",
        "        ))\n",
        "    \n",
        "    train_loss_graph.append(train_loss)\n",
        "    train_accuracy_graph.append(accuracy)\n",
        "    return train_loss_graph, train_accuracy_graph, accuracy\n",
        "\n",
        "incorrect_examples = []\n",
        "def test(model, device, test_loader, test_loss_graph, test_accuracy_graph):\n",
        "    model.eval()\n",
        "    test_loss = 0\n",
        "    correct = 0\n",
        "    with torch.no_grad():\n",
        "        for data, target in test_loader:\n",
        "            data, target = data.to(device), target.to(device)\n",
        "            output = model(data)\n",
        "            test_loss += F.nll_loss(output, target, reduction='sum').item()  # sum up batch loss\n",
        "            pred = output.argmax(dim=1, keepdim=True)  # get the index of the max log-probability\n",
        "            correct += pred.eq(target.view_as(pred)).sum().item()\n",
        "\n",
        "    test_loss /= len(test_loader.dataset)\n",
        "    accuracy = 100. * correct / len(test_loader.dataset)\n",
        "    print('Test set: Average loss: {:.4f}, Accuracy: {}/{} ({:.2f}%)\\n'.format(\n",
        "        test_loss, correct, len(test_loader.dataset),accuracy\n",
        "        ))\n",
        "    test_loss_graph.append(test_loss)\n",
        "    test_accuracy_graph.append(accuracy)\n",
        "    return test_loss_graph, test_accuracy_graph\n"
      ],
      "execution_count": 172,
      "outputs": []
    },
    {
      "cell_type": "code",
      "metadata": {
        "id": "MMWbLWO6FuHb",
        "colab": {
          "base_uri": "https://localhost:8080/",
          "height": 1000
        },
        "outputId": "dd035c91-a74d-4074-f4b1-bca9f5a20604"
      },
      "source": [
        "model = Net().to(device)\n",
        "optimizer = optim.SGD(model.parameters(), lr=0.01, momentum=0.9)\n",
        "\n",
        "train_loss_graph = []\n",
        "train_accuracy_graph = []\n",
        "test_loss_graph = []\n",
        "test_accuracy_graph = []\n",
        "for epoch in range(1, 16):\n",
        "    print('epoch number ', epoch)\n",
        "    train_loss_graph, train_accuracy_graph, accuracy = train(model, device, train_loader, optimizer, epoch, train_loss_graph, train_accuracy_graph)\n",
        "    test_loss_graph, test_accuracy_graph = test(model, device, test_loader, test_loss_graph, test_accuracy_graph)\n",
        "\n",
        "import matplotlib.pyplot as plt\n",
        "\n",
        "print(train_loss_graph, test_loss_graph)\n",
        "print(train_accuracy_graph, test_accuracy_graph)\n",
        "plt.figure(figsize=(10,5))\n",
        "plt.title(\"Training and Test Loss\")\n",
        "plt.plot(train_loss_graph,label=\"train_loss\")\n",
        "plt.plot(test_loss_graph,label=\"test_loss\")\n",
        "plt.xlabel(\"iterations\")\n",
        "plt.ylabel(\"Loss\")\n",
        "plt.legend()\n",
        "plt.show()\n",
        "\n",
        "plt.figure(figsize=(10,5))\n",
        "plt.title(\"Training and Test Accuracy\")\n",
        "plt.plot(train_accuracy_graph,label=\"train_accuracy\")\n",
        "plt.plot(test_accuracy_graph,label=\"test_accuracy\")\n",
        "plt.xlabel(\"iterations\")\n",
        "plt.ylabel(\"Accuracy\")\n",
        "plt.legend()\n",
        "plt.show()\n"
      ],
      "execution_count": 173,
      "outputs": [
        {
          "output_type": "stream",
          "text": [
            "epoch number  1\n",
            "Train set: Average loss: 0.0101, Accuracy: 34023/60000 (56.70%)\n",
            "Test set: Average loss: 0.1475, Accuracy: 9530/10000 (95.30%)\n",
            "\n",
            "epoch number  2\n",
            "Train set: Average loss: 0.0009, Accuracy: 57816/60000 (96.36%)\n",
            "Test set: Average loss: 0.0676, Accuracy: 9764/10000 (97.64%)\n",
            "\n",
            "epoch number  3\n",
            "Train set: Average loss: 0.0006, Accuracy: 58481/60000 (97.47%)\n",
            "Test set: Average loss: 0.0622, Accuracy: 9806/10000 (98.06%)\n",
            "\n",
            "epoch number  4\n",
            "Train set: Average loss: 0.0005, Accuracy: 58782/60000 (97.97%)\n",
            "Test set: Average loss: 0.0516, Accuracy: 9839/10000 (98.39%)\n",
            "\n",
            "epoch number  5\n",
            "Train set: Average loss: 0.0004, Accuracy: 59012/60000 (98.35%)\n",
            "Test set: Average loss: 0.0475, Accuracy: 9852/10000 (98.52%)\n",
            "\n",
            "epoch number  6\n",
            "Train set: Average loss: 0.0004, Accuracy: 59123/60000 (98.54%)\n",
            "Test set: Average loss: 0.0447, Accuracy: 9851/10000 (98.51%)\n",
            "\n",
            "epoch number  7\n",
            "Train set: Average loss: 0.0003, Accuracy: 59174/60000 (98.62%)\n",
            "Test set: Average loss: 0.0450, Accuracy: 9846/10000 (98.46%)\n",
            "\n",
            "epoch number  8\n",
            "Train set: Average loss: 0.0003, Accuracy: 59261/60000 (98.77%)\n",
            "Test set: Average loss: 0.0470, Accuracy: 9835/10000 (98.35%)\n",
            "\n",
            "epoch number  9\n",
            "Train set: Average loss: 0.0003, Accuracy: 59299/60000 (98.83%)\n",
            "Test set: Average loss: 0.0391, Accuracy: 9877/10000 (98.77%)\n",
            "\n",
            "epoch number  10\n",
            "Train set: Average loss: 0.0003, Accuracy: 59366/60000 (98.94%)\n",
            "Test set: Average loss: 0.0399, Accuracy: 9875/10000 (98.75%)\n",
            "\n",
            "epoch number  11\n",
            "Train set: Average loss: 0.0002, Accuracy: 59436/60000 (99.06%)\n",
            "Test set: Average loss: 0.0481, Accuracy: 9851/10000 (98.51%)\n",
            "\n",
            "epoch number  12\n",
            "Train set: Average loss: 0.0002, Accuracy: 59407/60000 (99.01%)\n",
            "Test set: Average loss: 0.0372, Accuracy: 9883/10000 (98.83%)\n",
            "\n",
            "epoch number  13\n",
            "Train set: Average loss: 0.0002, Accuracy: 59526/60000 (99.21%)\n",
            "Test set: Average loss: 0.0398, Accuracy: 9887/10000 (98.87%)\n",
            "\n",
            "epoch number  14\n",
            "Train set: Average loss: 0.0002, Accuracy: 59510/60000 (99.18%)\n",
            "Test set: Average loss: 0.0349, Accuracy: 9891/10000 (98.91%)\n",
            "\n",
            "epoch number  15\n",
            "Train set: Average loss: 0.0002, Accuracy: 59533/60000 (99.22%)\n",
            "Test set: Average loss: 0.0349, Accuracy: 9889/10000 (98.89%)\n",
            "\n",
            "[0.010083535719662905, 0.0009118883254627387, 0.0006279295667850723, 0.0005093313018325717, 0.00042383314607820165, 0.0003660928419403111, 0.00033694488894349584, 0.000299672287190333, 0.0002957131051962885, 0.00025834605656855275, 0.0002287103010904199, 0.00022827617035848865, 0.00019364500873489306, 0.00018953273654915393, 0.00018505902448184012] [0.14754781268835068, 0.06762068140283227, 0.062220213559269905, 0.05160704788565636, 0.04748092946130782, 0.0447278123177588, 0.04499051965922117, 0.046957204224681484, 0.03912408799752593, 0.0399062590258196, 0.0481416818857193, 0.037160370928421615, 0.03976258576826658, 0.034911388884112236, 0.03489125188291073]\n",
            "[56.705, 96.36, 97.46833333333333, 97.97, 98.35333333333334, 98.53833333333333, 98.62333333333333, 98.76833333333333, 98.83166666666666, 98.94333333333333, 99.06, 99.01166666666667, 99.21, 99.18333333333334, 99.22166666666666] [95.3, 97.64, 98.06, 98.39, 98.52, 98.51, 98.46, 98.35, 98.77, 98.75, 98.51, 98.83, 98.87, 98.91, 98.89]\n"
          ],
          "name": "stdout"
        },
        {
          "output_type": "display_data",
          "data": {
            "image/png": "[encoded data removed]",
            "text/plain": [
              "<Figure size 720x360 with 1 Axes>"
            ]
          },
          "metadata": {
            "tags": [],
            "needs_background": "light"
          }
        },
        {
          "output_type": "display_data",
          "data": {
            "image/png": "[encoded data removed]",
            "text/plain": [
              "<Figure size 720x360 with 1 Axes>"
            ]
          },
          "metadata": {
            "tags": [],
            "needs_background": "light"
          }
        }
      ]
    }
  ]
}