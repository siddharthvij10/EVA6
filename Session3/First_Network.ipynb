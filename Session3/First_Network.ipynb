{
  "nbformat": 4,
  "nbformat_minor": 0,
  "metadata": {
    "colab": {
      "name": "EVA4 - Session 3-pytorch.ipynb",
      "provenance": []
    },
    "kernelspec": {
      "name": "python3",
      "display_name": "Python 3"
    },
    "accelerator": "GPU",
    "widgets": {
      "application/vnd.jupyter.widget-state+json": {
        "a4a5bc2748e949b59439298733d067ea": {
          "model_module": "@jupyter-widgets/controls",
          "model_name": "HBoxModel",
          "state": {
            "_view_name": "HBoxView",
            "_dom_classes": [],
            "_model_name": "HBoxModel",
            "_view_module": "@jupyter-widgets/controls",
            "_model_module_version": "1.5.0",
            "_view_count": null,
            "_view_module_version": "1.5.0",
            "box_style": "",
            "layout": "IPY_MODEL_66575ca58e0e4e5dbbcb918a958b6428",
            "_model_module": "@jupyter-widgets/controls",
            "children": [
              "IPY_MODEL_12d0529e8ef145f7b820416575f86584",
              "IPY_MODEL_508e10c6971943a3ada87ca7d26e4c7f"
            ]
          }
        },
        "66575ca58e0e4e5dbbcb918a958b6428": {
          "model_module": "@jupyter-widgets/base",
          "model_name": "LayoutModel",
          "state": {
            "_view_name": "LayoutView",
            "grid_template_rows": null,
            "right": null,
            "justify_content": null,
            "_view_module": "@jupyter-widgets/base",
            "overflow": null,
            "_model_module_version": "1.2.0",
            "_view_count": null,
            "flex_flow": null,
            "width": null,
            "min_width": null,
            "border": null,
            "align_items": null,
            "bottom": null,
            "_model_module": "@jupyter-widgets/base",
            "top": null,
            "grid_column": null,
            "overflow_y": null,
            "overflow_x": null,
            "grid_auto_flow": null,
            "grid_area": null,
            "grid_template_columns": null,
            "flex": null,
            "_model_name": "LayoutModel",
            "justify_items": null,
            "grid_row": null,
            "max_height": null,
            "align_content": null,
            "visibility": null,
            "align_self": null,
            "height": null,
            "min_height": null,
            "padding": null,
            "grid_auto_rows": null,
            "grid_gap": null,
            "max_width": null,
            "order": null,
            "_view_module_version": "1.2.0",
            "grid_template_areas": null,
            "object_position": null,
            "object_fit": null,
            "grid_auto_columns": null,
            "margin": null,
            "display": null,
            "left": null
          }
        },
        "12d0529e8ef145f7b820416575f86584": {
          "model_module": "@jupyter-widgets/controls",
          "model_name": "FloatProgressModel",
          "state": {
            "_view_name": "ProgressView",
            "style": "IPY_MODEL_8c3e97e2e0fb48e19197fdd7160de424",
            "_dom_classes": [],
            "description": " 99%",
            "_model_name": "FloatProgressModel",
            "bar_style": "",
            "max": 9912422,
            "_view_module": "@jupyter-widgets/controls",
            "_model_module_version": "1.5.0",
            "value": 9815040,
            "_view_count": null,
            "_view_module_version": "1.5.0",
            "orientation": "horizontal",
            "min": 0,
            "description_tooltip": null,
            "_model_module": "@jupyter-widgets/controls",
            "layout": "IPY_MODEL_ba9078c0c36d4f8ba8bd645340d0200f"
          }
        },
        "508e10c6971943a3ada87ca7d26e4c7f": {
          "model_module": "@jupyter-widgets/controls",
          "model_name": "HTMLModel",
          "state": {
            "_view_name": "HTMLView",
            "style": "IPY_MODEL_af191b35f16f436ba3ea935518fde668",
            "_dom_classes": [],
            "description": "",
            "_model_name": "HTMLModel",
            "placeholder": "​",
            "_view_module": "@jupyter-widgets/controls",
            "_model_module_version": "1.5.0",
            "value": " 9815040/9912422 [04:12&lt;00:03, 31933.10it/s]",
            "_view_count": null,
            "_view_module_version": "1.5.0",
            "description_tooltip": null,
            "_model_module": "@jupyter-widgets/controls",
            "layout": "IPY_MODEL_3e2c36d7d16e48468e2d9b39e79b50a0"
          }
        },
        "8c3e97e2e0fb48e19197fdd7160de424": {
          "model_module": "@jupyter-widgets/controls",
          "model_name": "ProgressStyleModel",
          "state": {
            "_view_name": "StyleView",
            "_model_name": "ProgressStyleModel",
            "description_width": "initial",
            "_view_module": "@jupyter-widgets/base",
            "_model_module_version": "1.5.0",
            "_view_count": null,
            "_view_module_version": "1.2.0",
            "bar_color": null,
            "_model_module": "@jupyter-widgets/controls"
          }
        },
        "ba9078c0c36d4f8ba8bd645340d0200f": {
          "model_module": "@jupyter-widgets/base",
          "model_name": "LayoutModel",
          "state": {
            "_view_name": "LayoutView",
            "grid_template_rows": null,
            "right": null,
            "justify_content": null,
            "_view_module": "@jupyter-widgets/base",
            "overflow": null,
            "_model_module_version": "1.2.0",
            "_view_count": null,
            "flex_flow": null,
            "width": null,
            "min_width": null,
            "border": null,
            "align_items": null,
            "bottom": null,
            "_model_module": "@jupyter-widgets/base",
            "top": null,
            "grid_column": null,
            "overflow_y": null,
            "overflow_x": null,
            "grid_auto_flow": null,
            "grid_area": null,
            "grid_template_columns": null,
            "flex": null,
            "_model_name": "LayoutModel",
            "justify_items": null,
            "grid_row": null,
            "max_height": null,
            "align_content": null,
            "visibility": null,
            "align_self": null,
            "height": null,
            "min_height": null,
            "padding": null,
            "grid_auto_rows": null,
            "grid_gap": null,
            "max_width": null,
            "order": null,
            "_view_module_version": "1.2.0",
            "grid_template_areas": null,
            "object_position": null,
            "object_fit": null,
            "grid_auto_columns": null,
            "margin": null,
            "display": null,
            "left": null
          }
        },
        "af191b35f16f436ba3ea935518fde668": {
          "model_module": "@jupyter-widgets/controls",
          "model_name": "DescriptionStyleModel",
          "state": {
            "_view_name": "StyleView",
            "_model_name": "DescriptionStyleModel",
            "description_width": "",
            "_view_module": "@jupyter-widgets/base",
            "_model_module_version": "1.5.0",
            "_view_count": null,
            "_view_module_version": "1.2.0",
            "_model_module": "@jupyter-widgets/controls"
          }
        },
        "3e2c36d7d16e48468e2d9b39e79b50a0": {
          "model_module": "@jupyter-widgets/base",
          "model_name": "LayoutModel",
          "state": {
            "_view_name": "LayoutView",
            "grid_template_rows": null,
            "right": null,
            "justify_content": null,
            "_view_module": "@jupyter-widgets/base",
            "overflow": null,
            "_model_module_version": "1.2.0",
            "_view_count": null,
            "flex_flow": null,
            "width": null,
            "min_width": null,
            "border": null,
            "align_items": null,
            "bottom": null,
            "_model_module": "@jupyter-widgets/base",
            "top": null,
            "grid_column": null,
            "overflow_y": null,
            "overflow_x": null,
            "grid_auto_flow": null,
            "grid_area": null,
            "grid_template_columns": null,
            "flex": null,
            "_model_name": "LayoutModel",
            "justify_items": null,
            "grid_row": null,
            "max_height": null,
            "align_content": null,
            "visibility": null,
            "align_self": null,
            "height": null,
            "min_height": null,
            "padding": null,
            "grid_auto_rows": null,
            "grid_gap": null,
            "max_width": null,
            "order": null,
            "_view_module_version": "1.2.0",
            "grid_template_areas": null,
            "object_position": null,
            "object_fit": null,
            "grid_auto_columns": null,
            "margin": null,
            "display": null,
            "left": null
          }
        }
      }
    }
  },
  "cells": [
    {
      "cell_type": "code",
      "metadata": {
        "id": "0m2JWFliFfKT",
        "colab": {
          "base_uri": "https://localhost:8080/"
        },
        "outputId": "1f5b2e5b-a0a7-4df8-899d-fb3a36c5dda3"
      },
      "source": [
        "from __future__ import print_function\n",
        "import torch\n",
        "import torch.nn as nn\n",
        "import torch.nn.functional as F\n",
        "import torch.optim as optim\n",
        "from torchvision import datasets, transforms\n",
        "from torch.utils.data import Dataset\n",
        "\n",
        "import torch\n",
        "!pip install torchsummary\n",
        "from torchsummary import summary\n",
        "use_cuda = torch.cuda.is_available()\n",
        "device = torch.device(\"cuda\" if use_cuda else \"cpu\")"
      ],
      "execution_count": 1,
      "outputs": [
        {
          "output_type": "stream",
          "text": [
            "Requirement already satisfied: torchsummary in /usr/local/lib/python3.7/dist-packages (1.5.1)\n"
          ],
          "name": "stdout"
        }
      ]
    },
    {
      "cell_type": "code",
      "metadata": {
        "id": "qTcXldrsA6xx"
      },
      "source": [
        "# class MNIST_Dataset(Dataset):\n",
        "#   def __init__(self, csv_file):\n",
        "#     self.data = pd.read_csv(csv_file)\n",
        "\n",
        "#   def __getitem__(self, index):\n",
        "#     r = self.data.iloc[index]\n",
        "#     label, image = r\n",
        "#     return label, image\n",
        "  \n",
        "#   def __len__(self):\n",
        "#     return len(self.data)"
      ],
      "execution_count": 2,
      "outputs": []
    },
    {
      "cell_type": "code",
      "metadata": {
        "id": "fdh_w0j-CDn0",
        "colab": {
          "base_uri": "https://localhost:8080/",
          "height": 83,
          "referenced_widgets": [
            "a4a5bc2748e949b59439298733d067ea",
            "66575ca58e0e4e5dbbcb918a958b6428",
            "12d0529e8ef145f7b820416575f86584",
            "508e10c6971943a3ada87ca7d26e4c7f",
            "8c3e97e2e0fb48e19197fdd7160de424",
            "ba9078c0c36d4f8ba8bd645340d0200f",
            "af191b35f16f436ba3ea935518fde668",
            "3e2c36d7d16e48468e2d9b39e79b50a0"
          ]
        },
        "outputId": "2afe49ea-5b01-46a8-b1e5-94930f1b2acc"
      },
      "source": [
        "torch.manual_seed(1)\n",
        "batch_size = 128\n",
        "\n",
        "kwargs = {'num_workers': 1, 'pin_memory': True} if use_cuda else {}\n",
        "\n",
        "train_set = datasets.MNIST(\n",
        "    root = '.data/'\n",
        "    ,train=True\n",
        "    ,download = True\n",
        "    ,transform = transforms.Compose([\n",
        "                  transforms.ToTensor()\n",
        "    ])\n",
        ")\n",
        "\n",
        "train_loader = torch.utils.data.DataLoader(train_set,\n",
        "    batch_size=batch_size, shuffle=True, **kwargs)\n",
        "\n",
        "test_set = datasets.MNIST(\n",
        "    root = '.data/'\n",
        "    ,train=False\n",
        "    ,download = True\n",
        "    ,transform = transforms.Compose([\n",
        "                  transforms.ToTensor()\n",
        "    ])\n",
        ")\n",
        "\n",
        "test_loader = torch.utils.data.DataLoader(test_set,\n",
        "    batch_size=batch_size, shuffle=True, **kwargs)\n",
        "\n"
      ],
      "execution_count": null,
      "outputs": [
        {
          "output_type": "stream",
          "text": [
            "Downloading http://yann.lecun.com/exdb/mnist/train-images-idx3-ubyte.gz\n",
            "Downloading http://yann.lecun.com/exdb/mnist/train-images-idx3-ubyte.gz to .data/MNIST/raw/train-images-idx3-ubyte.gz\n"
          ],
          "name": "stdout"
        },
        {
          "output_type": "display_data",
          "data": {
            "application/vnd.jupyter.widget-view+json": {
              "model_id": "a4a5bc2748e949b59439298733d067ea",
              "version_minor": 0,
              "version_major": 2
            },
            "text/plain": [
              "HBox(children=(FloatProgress(value=0.0, max=9912422.0), HTML(value='')))"
            ]
          },
          "metadata": {
            "tags": []
          }
        }
      ]
    },
    {
      "cell_type": "code",
      "metadata": {
        "id": "h_Cx9q2QFgM7"
      },
      "source": [
        "max_rand_no = 10\n",
        "optimizer = optim.SGD(model.parameters(), lr=0.01, momentum=0.9)\n",
        "\n",
        "class Net(nn.Module):\n",
        "    def __init__(self):\n",
        "        super(Net, self).__init__()\n",
        "        self.conv1 = nn.Conv2d(1, 32, 3, padding=1) #  28*28  32  3*3\n",
        "        self.conv2 = nn.Conv2d(32, 64, 3, padding=1) #  28*28  64  5*5\n",
        "        self.pool1 = nn.MaxPool2d(2, 2)  # 14*14  64  10*10\n",
        "        self.conv3 = nn.Conv2d(64, 128, 3, padding=1)  #  14*14  128  12*12 \n",
        "        self.conv4 = nn.Conv2d(128, 256, 3, padding=1) #  14*14  256  14*14\n",
        "        self.pool2 = nn.MaxPool2d(2, 2)  # 7*7  256  28*28\n",
        "        self.conv5 = nn.Conv2d(256, 512, 3)  # 5*5  512  30*30\n",
        "        self.conv6 = nn.Conv2d(512, 1024, 3)  # 3*3  1024  32*32\n",
        "        self.conv7 = nn.Conv2d(1024, 10, 3)   # 1*1  10  34*34  # how come receptive field be more than the image size?\n",
        "\n",
        "    def forward(self, x, y): \n",
        "        x = self.pool1(F.relu(self.conv2(F.relu(self.conv1(x)))))\n",
        "        x = self.pool2(F.relu(self.conv4(F.relu(self.conv3(x)))))\n",
        "        x = F.relu(self.conv6(F.relu(self.conv5(x)))) \n",
        "        x = (self.conv7(x))  \n",
        "        x = x.view(-1, 10)\n",
        "        # x = F.log_softmax(x)\n",
        "        x_for_sum = torch.argmax(x, dim=1)  # label, _ = x \n",
        "        sum_x_y = x_for_sum + y\n",
        "        sum_x_y_encoded = F.one_hot(sum_x_y, num_classes=max_rand_no*2)\n",
        "        return x, sum_x_y_encoded\n",
        "\n",
        "model = Net().to(device)\n",
        "for name, param in model.named_parameters():\n",
        "  print(name, '\\t\\t', param.shape)"
      ],
      "execution_count": null,
      "outputs": []
    },
    {
      "cell_type": "code",
      "metadata": {
        "id": "8fDefDhaFlwH"
      },
      "source": [
        "import random\n",
        "import sys\n",
        "max_rand_no = 10\n",
        "\n",
        "\n",
        "from tqdm import tqdm\n",
        "def train(model, device, train_loader, optimizer, epoch):\n",
        "    model.train()\n",
        "    pbar = tqdm(train_loader)\n",
        "    for batch_idx, (data, target) in enumerate(pbar):\n",
        "        data, target = data.to(device), target.to(device)\n",
        "        optimizer.zero_grad()\n",
        "\n",
        "        randomlist = []\n",
        "        for i in range(0,data.size()[0]):\n",
        "          rand_no = random.randint(0,max_rand_no)\n",
        "          randomlist.append(rand_no)\n",
        "        randomtensor = torch.as_tensor(randomlist)\n",
        "        randomtensor = randomtensor.cuda()\n",
        "\n",
        "        output, sum_rand_image = model(data, randomtensor)  # sum_randomtensor\n",
        "        loss = F.cross_entropy(output, target)\n",
        "        sum_rand_image = sum_rand_image.type(torch.FloatTensor)\n",
        "        target_2 = (target+randomtensor)\n",
        "        sum_rand_image = sum_rand_image.cuda()\n",
        "\n",
        "        loss_2 = F.cross_entropy(sum_rand_image, target_2)\n",
        "        loss = loss+loss_2\n",
        "        loss.backward()\n",
        "        optimizer.step()\n",
        "        pbar.set_description(desc= f'loss={loss.item()} batch_id={batch_idx}')\n",
        "\n",
        "\n",
        "def test(model, device, test_loader):\n",
        "    model.eval()\n",
        "    test_loss = 0\n",
        "    loss_2 = 0\n",
        "    correct = 0\n",
        "    correct_2 = 0 \n",
        "    with torch.no_grad():\n",
        "        for data, target in test_loader:\n",
        "            data, target = data.to(device), target.to(device)\n",
        "            \n",
        "            randomlist = []\n",
        "            for i in range(0,data.size()[0]):\n",
        "              rand_no = random.randint(0,max_rand_no)\n",
        "              randomlist.append(rand_no)\n",
        "            randomtensor = torch.as_tensor(randomlist)\n",
        "            randomtensor = randomtensor.cuda()\n",
        "            \n",
        "            output, sum_rand_image = model(data, randomtensor)\n",
        "            test_loss += F.cross_entropy(output, target, reduction='sum').item()  # sum up batch loss\n",
        "            sum_rand_image = sum_rand_image.type(torch.FloatTensor)\n",
        "            target_2 = (target+randomtensor)\n",
        "            sum_rand_image = sum_rand_image.cuda()\n",
        "            loss_2 = F.cross_entropy(sum_rand_image, target_2, reduction='sum').item()\n",
        "            loss = test_loss+loss_2\n",
        "\n",
        "            pred = output.argmax(dim=1, keepdim=True)  # get the index of the max log-probability\n",
        "            correct += pred.eq(target.view_as(pred)).sum().item()\n",
        "\n",
        "            pred_2 = sum_rand_image.argmax(dim=1, keepdim=True)  # get the index of the max log-probability\n",
        "            correct_2 += pred_2.eq(target_2.view_as(pred_2)).sum().item()\n",
        "    test_loss /= len(test_loader.dataset)\n",
        "    loss_2 /= len(test_loader.dataset)\n",
        "\n",
        "    print('\\nTest set: Average loss: {:.4f}, Accuracy: {}/{} ({:.0f}%)\\n'.format(\n",
        "        test_loss, correct, len(test_loader.dataset),\n",
        "        100. * correct / len(test_loader.dataset)))\n",
        "    print('\\nTest set: Average loss: {:.4f}, Accuracy: {}/{} ({:.0f}%)\\n'.format(\n",
        "        loss_2, correct_2, len(test_loader.dataset),\n",
        "        100. * correct_2 / len(test_loader.dataset)))\n",
        "    print('\\nTest set: Average loss: {:.4f}'.format(loss))"
      ],
      "execution_count": null,
      "outputs": []
    },
    {
      "cell_type": "code",
      "metadata": {
        "id": "MMWbLWO6FuHb"
      },
      "source": [
        "for epoch in range(1, 5):\n",
        "    train(model, device, train_loader, optimizer, epoch)\n",
        "    test(model, device, test_loader)"
      ],
      "execution_count": null,
      "outputs": []
    },
    {
      "cell_type": "code",
      "metadata": {
        "id": "So5uk4EkHW6R"
      },
      "source": [
        ""
      ],
      "execution_count": null,
      "outputs": []
    }
  ]
}